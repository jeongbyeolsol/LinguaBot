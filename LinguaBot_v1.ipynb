{
 "cells": [
  {
   "cell_type": "code",
   "execution_count": 1,
   "id": "c276de2a-4b2f-4e2d-a9b0-ee51c6d60ede",
   "metadata": {
    "scrolled": true
   },
   "outputs": [
    {
     "name": "stdout",
     "output_type": "stream",
     "text": [
      "User: Hello\n",
      "LinguaBot: Good to see you!\n",
      "\n",
      "User: How are you?\n",
      "LinguaBot: Doing well, thank you!\n",
      "\n",
      "User: I goed to school today\n",
      "LinguaBot: Did you mean 'i went to school today'? The correct past tense of 'goed' is 'went'.\n",
      "\n",
      "User: She runned fast\n",
      "LinguaBot: Did you mean 'she ran fast'? The correct past tense of 'runned' is 'ran'.\n",
      "\n",
      "User: Bye\n",
      "LinguaBot: See you next time!\n",
      "\n"
     ]
    }
   ],
   "source": [
    "# 챗봇 뼈대: LinguaBot(for colab)\n",
    "import random\n",
    "\n",
    "# 기본 응답 템플릿\n",
    "basic_responses = {\n",
    "    \"hello\": [\"Hi there!\", \"Hello!\", \"Good to see you!\"],\n",
    "    \"how are you\": [\"I'm a bot, but I'm doing great!\", \"Doing well, thank you!\"],\n",
    "    \"bye\": [\"Goodbye!\", \"See you next time!\", \"Take care!\"],\n",
    "}\n",
    "\n",
    "# 간단한 문법 오류 교정 예시\n",
    "grammar_corrections = {\n",
    "    \"goed\": \"went\",\n",
    "    \"runned\": \"ran\",\n",
    "    \"eated\": \"ate\",\n",
    "    \"buyed\": \"bought\"\n",
    "}\n",
    "\n",
    "\n",
    "# 간단한 응답 처리 함수\n",
    "def get_response(user_input):\n",
    "    user_input = user_input.lower()\n",
    "\n",
    "    # 문법 오류 수정\n",
    "    for wrong, correct in grammar_corrections.items():\n",
    "        if wrong in user_input:\n",
    "            return f\"Did you mean '{user_input.replace(wrong, correct)}'? The correct past tense of '{wrong}' is '{correct}'.\"\n",
    "\n",
    "    # 기본 응답 키워드\n",
    "    for keyword in basic_responses:\n",
    "        if keyword in user_input:\n",
    "            return random.choice(basic_responses[keyword])\n",
    "\n",
    "    return \"Sorry, I didn't understand that. Could you try again?\"\n",
    "\n",
    "\n",
    "# 채팅 루프 (Colab에서는 직접 입력 받기보다는 아래처럼 여러 문장 테스트 가능)\n",
    "test_inputs = [\n",
    "    \"Hello\",\n",
    "    \"How are you?\",\n",
    "    \"I goed to school today\",\n",
    "    \"She runned fast\",\n",
    "    \"Bye\",\n",
    "]\n",
    "\n",
    "for inp in test_inputs:\n",
    "    print(f\"User: {inp}\")\n",
    "    print(f\"LinguaBot: {get_response(inp)}\\n\")"
   ]
  },
  {
   "cell_type": "code",
   "execution_count": 3,
   "id": "c6e8c4c9-ea5c-4823-b8d2-2a7dce4e067b",
   "metadata": {},
   "outputs": [
    {
     "name": "stdin",
     "output_type": "stream",
     "text": [
      "You:  I learned math\n"
     ]
    },
    {
     "name": "stdout",
     "output_type": "stream",
     "text": [
      "LinguaBot: Did you mean 'i learnt math'? The correct past tense of 'learned' is 'learnt'.\n"
     ]
    },
    {
     "name": "stdin",
     "output_type": "stream",
     "text": [
      "You:  exit\n"
     ]
    },
    {
     "name": "stdout",
     "output_type": "stream",
     "text": [
      "LinguaBot: Bye!\n"
     ]
    }
   ],
   "source": [
    "# 챗봇 뼈대: LinguaBot\n",
    "import random\n",
    "\n",
    "# 기본 응답 템플릿\n",
    "basic_responses = {\n",
    "    \"hello\": [\"Hi there!\", \"Hello!\", \"Good to see you!\"],\n",
    "    \"how are you\": [\"I'm a bot, but I'm doing great!\", \"Doing well, thank you!\"],\n",
    "    \"bye\": [\"Goodbye!\", \"See you next time!\", \"Take care!\"]\n",
    "}\n",
    "\n",
    "# 간단한 문법 오류 교정 예시\n",
    "grammar_corrections = {\n",
    "    \"goed\": \"went\",\n",
    "    \"runned\": \"ran\",\n",
    "    \n",
    "    \"begined\" : \"began\",\n",
    "    \"bited\" : \"bit\",\n",
    "    \"breaked\" : \"broke\",\n",
    "    \"builded\" : \"built\",\n",
    "    \"burned\" : \"burnt\",\n",
    "    \"buyed\": \"bought\",\n",
    "    \n",
    "    \"catched\" : \"caught\",\n",
    "    \"comed\" : \"came\",\n",
    "    \"cuted\" : \"cut\",\n",
    "    \n",
    "    \"drawed\" : \"drew\",\n",
    "    \"drinked\" : \"drank\",\n",
    "    \"drived\" : \"drove\",\n",
    "\n",
    "    \"eated\": \"ate\",\n",
    "\n",
    "    \"falled\" : \"fell\",\n",
    "    \"feeded\" : \"fed\",\n",
    "    \"feeled\" : \"felt\",\n",
    "    \"fighted\" : \"fought\",\n",
    "    \"finded\" : \"found\",\n",
    "    \"flied\" : \"flew\",\n",
    "    \"forgeted\" : \"forgot\",\n",
    "\n",
    "    \"geted\" : \"got\",\n",
    "    \"gived\" : \"gave\",\n",
    "    \"growed\" : \"grew\",\n",
    "    \n",
    "    \"haved\" : \"had\",\n",
    "    \"heared\" : \"heard\",\n",
    "    \"hided\" : \"hid\",\n",
    "    \"hited\" : \"hit\",\n",
    "    \"holded\" : \"held\",\n",
    "\n",
    "    \"keeped\" : \"kept\",\n",
    "    \"knowed\" : \"knew\",\n",
    "    \n",
    "    \"leaded\" : \"led\",\n",
    "    \"learned\" : \"learnt\",\n",
    "    \"leaved\" : \"left\",\n",
    "    \"leted\" : \"let\",\n",
    "    \n",
    "    \"maked\" : \"maed\",\n",
    "    \"meaned\" : \"meant\",\n",
    "\n",
    "    \"paied\" : \"paid\",\n",
    "    \"puted\" : \"put\",\n",
    "    \n",
    "    \"readed\" : \"read\",\n",
    "    \"rided\" : \"rode\",\n",
    "    \"rised\" : \"rose\",\n",
    "    \"runed\" : \"ran\",\n",
    "    \n",
    "    \"saied\" : \"said\",\n",
    "    \"selled\" : \"sold\",\n",
    "    \"singed\" : \"sang\",\n",
    "    \n",
    "    \"taked\" : \"took\",\n",
    "    \"theached\" : \"taught\",\n",
    "    \"telled\" : \"told\",\n",
    "    \"thinked\" : \"thought\",\n",
    "    \n",
    "    \"waked\" : \"woked\",\n",
    "    \"wined\" : \"win\",\n",
    "    \"writed\" : \"wrote\"\n",
    " }\n",
    "\n",
    "# 간단한 응답 처리 함수\n",
    "def get_response(user_input):\n",
    "    user_input = user_input.lower()\n",
    "    \n",
    "    # 문법 오류 수정\n",
    "    for wrong, correct in grammar_corrections.items():\n",
    "        if wrong in user_input:\n",
    "            return f\"Did you mean '{user_input.replace(wrong, correct)}'? The correct past tense of '{wrong}' is '{correct}'.\"\n",
    "    \n",
    "    # 기본 응답 키워드\n",
    "    for keyword in basic_responses:\n",
    "        if keyword in user_input:\n",
    "            return random.choice(basic_responses[keyword])\n",
    "    \n",
    "    return \"Sorry, I didn't understand that. Could you try again?\"\n",
    "\n",
    "while True:\n",
    "    user_input = input(\"You: \")\n",
    "    if user_input.lower() in ['exit', 'quit']:\n",
    "        print(\"LinguaBot: Bye!\")\n",
    "        break\n",
    "    response = get_response(user_input)\n",
    "    print(\"LinguaBot:\", response)\n",
    "\n"
   ]
  },
  {
   "cell_type": "code",
   "execution_count": null,
   "id": "78e7161e-c3a5-4b48-a2b7-4079ee8456c1",
   "metadata": {},
   "outputs": [],
   "source": [
    "import nltk\n",
    "\n",
    "def extract_verbs(sentence):\n",
    "    # 1. 문장 토큰화\n",
    "    words = nltk.word_tokenize(sentence)\n",
    "    \n",
    "    # 2. 품사 태깅\n",
    "    tagged = nltk.pos_tag(words)\n",
    "    \n",
    "    print(\"POS 태깅 결과:\", tagged)\n",
    "    \n",
    "    # 3. 동사만 추출\n",
    "    verbs = [word for word, pos in tagged if pos.startswith('VB')]\n",
    "    return verbs\n",
    "\n",
    "# 테스트\n",
    "sentence = \"She is going to school and eats lunch quickly.\"\n",
    "print(\"Verbs:\", extract_verbs(sentence))"
   ]
  },
  {
   "cell_type": "code",
   "execution_count": 24,
   "id": "8d5b48b0-1719-4bd1-82a6-4fe2c39c20f3",
   "metadata": {},
   "outputs": [
    {
     "name": "stdout",
     "output_type": "stream",
     "text": [
      "This is english grammar correction chatbot\n",
      "First model is simple verbs correction model, LinguaBot\n",
      "Second model is smart grammar correction model, Zrammar\n",
      "If you want change model, input model name\n",
      "Also if you want to quit, input 'quit' or 'exit'\n",
      "\n"
     ]
    },
    {
     "name": "stdin",
     "output_type": "stream",
     "text": [
      "You:  hi\n"
     ]
    },
    {
     "name": "stdout",
     "output_type": "stream",
     "text": [
      "LinguaBot: More verbs are needed!\n"
     ]
    },
    {
     "name": "stdin",
     "output_type": "stream",
     "text": [
      "You:  I am pizza\n"
     ]
    },
    {
     "name": "stdout",
     "output_type": "stream",
     "text": [
      "LinguaBot: Thanks! Your sentence looks okay to me.\n"
     ]
    },
    {
     "name": "stdin",
     "output_type": "stream",
     "text": [
      "You:  Zrammar\n",
      "You:  42 is most perfect number\n"
     ]
    },
    {
     "name": "stdout",
     "output_type": "stream",
     "text": [
      "Zrammar: 43 is the most perfect number.\n"
     ]
    },
    {
     "name": "stdin",
     "output_type": "stream",
     "text": [
      "You:  Linguabot\n"
     ]
    },
    {
     "name": "stdout",
     "output_type": "stream",
     "text": [
      "Zrammar: Linguistics are not easy.\n"
     ]
    },
    {
     "name": "stdin",
     "output_type": "stream",
     "text": [
      "You:  hi run\n"
     ]
    },
    {
     "name": "stdout",
     "output_type": "stream",
     "text": [
      "Zrammar: Hi, I run a marathon.\n"
     ]
    },
    {
     "name": "stdin",
     "output_type": "stream",
     "text": [
      "You:  LinguaBot4\n"
     ]
    },
    {
     "name": "stdout",
     "output_type": "stream",
     "text": [
      "Zrammar: Linguistics 4 - Linguistic - LinGuardias 4\n"
     ]
    },
    {
     "name": "stdin",
     "output_type": "stream",
     "text": [
      "You:  LinguaBot\n",
      "You:  a\n"
     ]
    },
    {
     "name": "stdout",
     "output_type": "stream",
     "text": [
      "LinguaBot: More verbs are needed!\n"
     ]
    },
    {
     "name": "stdin",
     "output_type": "stream",
     "text": [
      "You:  hi\n"
     ]
    },
    {
     "name": "stdout",
     "output_type": "stream",
     "text": [
      "LinguaBot: More verbs are needed!\n"
     ]
    },
    {
     "name": "stdin",
     "output_type": "stream",
     "text": [
      "You:  May I help you\n"
     ]
    },
    {
     "name": "stdout",
     "output_type": "stream",
     "text": [
      "LinguaBot: Thanks! Your sentence looks okay to me.\n"
     ]
    },
    {
     "name": "stdin",
     "output_type": "stream",
     "text": [
      "You:  fuck you!\n"
     ]
    },
    {
     "name": "stdout",
     "output_type": "stream",
     "text": [
      "LinguaBot: More verbs are needed!\n"
     ]
    },
    {
     "name": "stdin",
     "output_type": "stream",
     "text": [
      "You:  can\n"
     ]
    },
    {
     "name": "stdout",
     "output_type": "stream",
     "text": [
      "LinguaBot: More verbs are needed!\n"
     ]
    },
    {
     "name": "stdin",
     "output_type": "stream",
     "text": [
      "You:  run\n"
     ]
    },
    {
     "name": "stdout",
     "output_type": "stream",
     "text": [
      "LinguaBot: Thanks! Your sentence looks okay to me.\n"
     ]
    },
    {
     "name": "stdin",
     "output_type": "stream",
     "text": [
      "You:  quit\n"
     ]
    },
    {
     "name": "stdout",
     "output_type": "stream",
     "text": [
      "LinguaBot: Bye!\n"
     ]
    }
   ],
   "source": [
    "import nltk\n",
    "from transformers import AutoTokenizer, AutoModelForSeq2SeqLM\n",
    "\n",
    "tokenizer = AutoTokenizer.from_pretrained(\"pszemraj/grammar-synthesis-small\")\n",
    "model = AutoModelForSeq2SeqLM.from_pretrained(\"pszemraj/grammar-synthesis-small\")\n",
    "\n",
    "grammar_corrections = {\n",
    "    \"goed\": \"went\",\n",
    "    \"runned\": \"ran\",\n",
    "    \n",
    "    \"begined\" : \"began\",    \"bited\" : \"bit\",    \"breaked\" : \"broke\",    \"builded\" : \"built\",    \"burned\" : \"burnt\",    \"buyed\": \"bought\",\n",
    "    \n",
    "    \"catched\" : \"caught\",    \"comed\" : \"came\",    \"cuted\" : \"cut\",\n",
    "    \n",
    "    \"drawed\" : \"drew\",    \"drinked\" : \"drank\",    \"drived\" : \"drove\",\n",
    "\n",
    "    \"eated\": \"ate\",\n",
    "\n",
    "    \"falled\" : \"fell\",    \"feeded\" : \"fed\",    \"feeled\" : \"felt\",    \"fighted\" : \"fought\",    \"finded\" : \"found\",    \"flied\" : \"flew\",    \"forgeted\" : \"forgot\",\n",
    "\n",
    "    \"geted\" : \"got\",    \"gived\" : \"gave\",    \"growed\" : \"grew\",\n",
    "    \n",
    "    \"haved\" : \"had\",    \"heared\" : \"heard\",    \"hided\" : \"hid\",    \"hited\" : \"hit\",    \"holded\" : \"held\",\n",
    "\n",
    "    \"keeped\" : \"kept\",    \"knowed\" : \"knew\",\n",
    "    \n",
    "    \"leaded\" : \"led\",    \"learned\" : \"learnt\",    \"leaved\" : \"left\",    \"leted\" : \"let\",\n",
    "    \n",
    "    \"maked\" : \"maed\",    \"meaned\" : \"meant\",\n",
    "    \n",
    "    \"paied\" : \"paid\",    \"puted\" : \"put\",\n",
    "    \n",
    "    \"readed\" : \"read\",    \"rided\" : \"rode\",    \"rised\" : \"rose\",    \"runed\" : \"ran\",\n",
    "    \n",
    "    \"saied\" : \"said\",    \"selled\" : \"sold\",    \"singed\" : \"sang\",\n",
    "    \n",
    "    \"taked\" : \"took\",    \"theached\" : \"taught\",    \"telled\" : \"told\",    \"thinked\" : \"thought\",\n",
    "    \n",
    "    \"waked\" : \"woked\",    \"wined\" : \"win\",    \"writed\" : \"wrote\"\n",
    " }\n",
    "\n",
    "def extract_verbs_conjunction(sentence):\n",
    "    words = nltk.word_tokenize(sentence)\n",
    "    tagged = nltk.pos_tag(words)\n",
    "    verbs = [word for word, pos in tagged if pos.startswith('VB')]\n",
    "    conjs = [word for word, pos in tagged if pos in ('CC', 'IN')]\n",
    "    return verbs, conjs\n",
    "\n",
    "\n",
    "def check_verb_errors(sentence):\n",
    "    verbs, conj = extract_verbs_conjunction(sentence)\n",
    "    suggestions = []\n",
    "\n",
    "    for v in verbs:\n",
    "        lower_v = v.lower()\n",
    "        if lower_v in grammar_corrections:\n",
    "            suggestions.append((v, grammar_corrections[lower_v]))\n",
    "    \n",
    "    return suggestions\n",
    "\n",
    "\n",
    "def get_response(user_input):\n",
    "    corrections = check_verb_errors(user_input)\n",
    "    verbs, conjs = extract_verbs_conjunction(user_input)\n",
    "\n",
    "    if corrections:\n",
    "        messages = []\n",
    "        for wrong, correct in corrections:\n",
    "            messages.append(f\"Did you mean '{correct}' instead of '{wrong}'?\")\n",
    "            verbs.append(correct)\n",
    "        return \" \".join(messages)\n",
    "\n",
    "    if len(verbs) > (len(conjs) + 1):\n",
    "        return \"Too many verbs are exist!\"\n",
    "    elif len(verbs) < (len(conjs) + 1):\n",
    "        return \"More verbs are needed!\"\n",
    "        \n",
    "    # 다른 응답이 없다면 기본 메시지\n",
    "    return \"Thanks! Your sentence looks okay to me.\"\n",
    "\n",
    "\n",
    "def fix_grammar_with_transformer(sentence):\n",
    "    #input_text = \"Zrammar: \" + sentence\n",
    "    inputs = tokenizer([sentence], return_tensors=\"pt\", truncation=True)\n",
    "    outputs = model.generate(**inputs)\n",
    "    return tokenizer.decode(outputs[0], skip_special_tokens=True)\n",
    "    \n",
    "\n",
    "print(\"This is english grammar correction chatbot\")\n",
    "print(\"First model is simple verbs correction model, LinguaBot\")\n",
    "print(\"Second model is smart grammar correction model, Zrammar\")\n",
    "print(\"If you want change model, input model name\")\n",
    "print(\"Also if you want to quit, input 'quit' or 'exit'\\n\")\n",
    "model_choice  = 0\n",
    "\n",
    "while True:\n",
    "    user_input = input(\"You: \")\n",
    "    \n",
    "    if user_input  == \"LinguaBot\":\n",
    "        model_choice  = 0\n",
    "        continue\n",
    "    elif user_input == \"Zrammar\":\n",
    "        model_choice  = 1\n",
    "        continue\n",
    "        \n",
    "    if user_input.lower() in ['exit', 'quit']:\n",
    "        print(\"LinguaBot: Bye!\")\n",
    "        break\n",
    "\n",
    "    if model_choice  == 0:\n",
    "        response = get_response(user_input)\n",
    "        print(\"LinguaBot:\", response)\n",
    "    elif model_choice  == 1:\n",
    "        response = fix_grammar_with_transformer(user_input)\n",
    "        print(\"Zrammar: \", end='')\n",
    "        print(response)\n",
    "    else:\n",
    "        print(\"oh my god. Error.\")\n",
    "    "
   ]
  }
 ],
 "metadata": {
  "kernelspec": {
   "display_name": "Python 3 (ipykernel)",
   "language": "python",
   "name": "python3"
  },
  "language_info": {
   "codemirror_mode": {
    "name": "ipython",
    "version": 3
   },
   "file_extension": ".py",
   "mimetype": "text/x-python",
   "name": "python",
   "nbconvert_exporter": "python",
   "pygments_lexer": "ipython3",
   "version": "3.10.12"
  }
 },
 "nbformat": 4,
 "nbformat_minor": 5
}
